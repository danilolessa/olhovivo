{
 "metadata": {
  "name": "",
  "signature": "sha256:a09b674a35a631f7163fc19bb1b6f8d0b82b6765bde605867afc6454b79290e0"
 },
 "nbformat": 3,
 "nbformat_minor": 0,
 "worksheets": [
  {
   "cells": [
    {
     "cell_type": "code",
     "collapsed": false,
     "input": [
      "#depend\u00eancias iniciais e constantes\n",
      "import numpy as np\n",
      "import matplotlib as plt\n",
      "from main import *\n",
      "from func import *\n",
      "from graphics import *\n",
      "path = \"/home/danilo/olhovivo/dat/\""
     ],
     "language": "python",
     "metadata": {},
     "outputs": [],
     "prompt_number": 1
    },
    {
     "cell_type": "code",
     "collapsed": false,
     "input": [
      "#carregamento dos dados\n",
      "data_mtr = load_dat(path, UTC, True);"
     ],
     "language": "python",
     "metadata": {},
     "outputs": [
      {
       "output_type": "stream",
       "stream": "stdout",
       "text": [
        "Loading file 0/6\n",
        "23521204\n",
        "23521204\n",
        "22521204"
       ]
      },
      {
       "output_type": "stream",
       "stream": "stdout",
       "text": [
        "\n",
        "21521204"
       ]
      },
      {
       "output_type": "stream",
       "stream": "stdout",
       "text": [
        "\n",
        "20521204"
       ]
      },
      {
       "output_type": "stream",
       "stream": "stdout",
       "text": [
        "\n",
        "19521204"
       ]
      },
      {
       "output_type": "stream",
       "stream": "stdout",
       "text": [
        "\n",
        "18521204"
       ]
      },
      {
       "output_type": "stream",
       "stream": "stdout",
       "text": [
        "\n",
        "17521204"
       ]
      },
      {
       "output_type": "stream",
       "stream": "stdout",
       "text": [
        "\n",
        "16521204"
       ]
      },
      {
       "output_type": "stream",
       "stream": "stdout",
       "text": [
        "\n",
        "15521204"
       ]
      },
      {
       "output_type": "stream",
       "stream": "stdout",
       "text": [
        "\n",
        "14521204"
       ]
      },
      {
       "output_type": "stream",
       "stream": "stdout",
       "text": [
        "\n",
        "13521204"
       ]
      },
      {
       "output_type": "stream",
       "stream": "stdout",
       "text": [
        "\n",
        "12521204"
       ]
      },
      {
       "output_type": "stream",
       "stream": "stdout",
       "text": [
        "\n",
        "11521204"
       ]
      },
      {
       "output_type": "stream",
       "stream": "stdout",
       "text": [
        "\n",
        "10521204"
       ]
      },
      {
       "output_type": "stream",
       "stream": "stdout",
       "text": [
        "\n",
        "9521204"
       ]
      },
      {
       "output_type": "stream",
       "stream": "stdout",
       "text": [
        "\n",
        "8521204"
       ]
      },
      {
       "output_type": "stream",
       "stream": "stdout",
       "text": [
        "\n",
        "7521204"
       ]
      },
      {
       "output_type": "stream",
       "stream": "stdout",
       "text": [
        "\n",
        "6521204"
       ]
      },
      {
       "output_type": "stream",
       "stream": "stdout",
       "text": [
        "\n",
        "5521204"
       ]
      },
      {
       "output_type": "stream",
       "stream": "stdout",
       "text": [
        "\n",
        "4521204"
       ]
      },
      {
       "output_type": "stream",
       "stream": "stdout",
       "text": [
        "\n",
        "3521204"
       ]
      },
      {
       "output_type": "stream",
       "stream": "stdout",
       "text": [
        "\n",
        "2521204"
       ]
      },
      {
       "output_type": "stream",
       "stream": "stdout",
       "text": [
        "\n",
        "1521204"
       ]
      },
      {
       "output_type": "stream",
       "stream": "stdout",
       "text": [
        "\n",
        "521204"
       ]
      },
      {
       "output_type": "stream",
       "stream": "stdout",
       "text": [
        "\n",
        "42.5473415851593"
       ]
      },
      {
       "output_type": "stream",
       "stream": "stdout",
       "text": [
        "\n",
        "23521204\n",
        "Loading file 1/6"
       ]
      },
      {
       "output_type": "stream",
       "stream": "stdout",
       "text": [
        "\n",
        "7183929"
       ]
      },
      {
       "output_type": "stream",
       "stream": "stdout",
       "text": [
        "\n",
        "7183929\n",
        "6183929"
       ]
      },
      {
       "output_type": "stream",
       "stream": "stdout",
       "text": [
        "\n",
        "5183929"
       ]
      },
      {
       "output_type": "stream",
       "stream": "stdout",
       "text": [
        "\n",
        "4183929"
       ]
      },
      {
       "output_type": "stream",
       "stream": "stdout",
       "text": [
        "\n",
        "3183929"
       ]
      },
      {
       "output_type": "stream",
       "stream": "stdout",
       "text": [
        "\n",
        "2183929"
       ]
      },
      {
       "output_type": "stream",
       "stream": "stdout",
       "text": [
        "\n",
        "1183929"
       ]
      },
      {
       "output_type": "stream",
       "stream": "stdout",
       "text": [
        "\n",
        "183929"
       ]
      },
      {
       "output_type": "stream",
       "stream": "stdout",
       "text": [
        "\n",
        "13.173650979995728"
       ]
      },
      {
       "output_type": "stream",
       "stream": "stdout",
       "text": [
        "\n",
        "7183929\n",
        "Loading file 2/6"
       ]
      },
      {
       "output_type": "stream",
       "stream": "stdout",
       "text": [
        "\n",
        "3911372\n",
        "3911372\n",
        "2911372"
       ]
      },
      {
       "output_type": "stream",
       "stream": "stdout",
       "text": [
        "\n",
        "1911372"
       ]
      },
      {
       "output_type": "stream",
       "stream": "stdout",
       "text": [
        "\n",
        "911372"
       ]
      },
      {
       "output_type": "stream",
       "stream": "stdout",
       "text": [
        "\n",
        "6.893346786499023"
       ]
      },
      {
       "output_type": "stream",
       "stream": "stdout",
       "text": [
        "\n",
        "3911372\n",
        "Loading file 3/6"
       ]
      },
      {
       "output_type": "stream",
       "stream": "stdout",
       "text": [
        "\n",
        "2377756\n",
        "2377756"
       ]
      },
      {
       "output_type": "stream",
       "stream": "stdout",
       "text": [
        "\n",
        "1377756"
       ]
      },
      {
       "output_type": "stream",
       "stream": "stdout",
       "text": [
        "\n",
        "377756"
       ]
      },
      {
       "output_type": "stream",
       "stream": "stdout",
       "text": [
        "\n",
        "3.984929084777832"
       ]
      },
      {
       "output_type": "stream",
       "stream": "stdout",
       "text": [
        "\n",
        "2377756\n",
        "Loading file 4/6"
       ]
      },
      {
       "output_type": "stream",
       "stream": "stdout",
       "text": [
        "\n",
        "193344\n",
        "193344"
       ]
      },
      {
       "output_type": "stream",
       "stream": "stdout",
       "text": [
        "\n",
        "0.4284687042236328"
       ]
      },
      {
       "output_type": "stream",
       "stream": "stdout",
       "text": [
        "\n",
        "193344\n",
        "Loading file 5/6"
       ]
      },
      {
       "output_type": "stream",
       "stream": "stdout",
       "text": [
        "\n",
        "46439522\n",
        "46439522\n",
        "45439522"
       ]
      },
      {
       "output_type": "stream",
       "stream": "stdout",
       "text": [
        "\n",
        "44439522"
       ]
      },
      {
       "output_type": "stream",
       "stream": "stdout",
       "text": [
        "\n",
        "43439522"
       ]
      },
      {
       "output_type": "stream",
       "stream": "stdout",
       "text": [
        "\n",
        "42439522"
       ]
      },
      {
       "output_type": "stream",
       "stream": "stdout",
       "text": [
        "\n",
        "41439522"
       ]
      },
      {
       "output_type": "stream",
       "stream": "stdout",
       "text": [
        "\n",
        "40439522"
       ]
      },
      {
       "output_type": "stream",
       "stream": "stdout",
       "text": [
        "\n",
        "39439522"
       ]
      },
      {
       "output_type": "stream",
       "stream": "stdout",
       "text": [
        "\n",
        "38439522"
       ]
      },
      {
       "output_type": "stream",
       "stream": "stdout",
       "text": [
        "\n",
        "37439522"
       ]
      },
      {
       "output_type": "stream",
       "stream": "stdout",
       "text": [
        "\n",
        "36439522"
       ]
      },
      {
       "output_type": "stream",
       "stream": "stdout",
       "text": [
        "\n",
        "35439522"
       ]
      },
      {
       "output_type": "stream",
       "stream": "stdout",
       "text": [
        "\n",
        "34439522"
       ]
      },
      {
       "output_type": "stream",
       "stream": "stdout",
       "text": [
        "\n",
        "33439522"
       ]
      },
      {
       "output_type": "stream",
       "stream": "stdout",
       "text": [
        "\n",
        "32439522"
       ]
      },
      {
       "output_type": "stream",
       "stream": "stdout",
       "text": [
        "\n",
        "31439522"
       ]
      },
      {
       "output_type": "stream",
       "stream": "stdout",
       "text": [
        "\n",
        "30439522"
       ]
      },
      {
       "output_type": "stream",
       "stream": "stdout",
       "text": [
        "\n",
        "29439522"
       ]
      },
      {
       "output_type": "stream",
       "stream": "stdout",
       "text": [
        "\n",
        "28439522"
       ]
      },
      {
       "output_type": "stream",
       "stream": "stdout",
       "text": [
        "\n",
        "27439522"
       ]
      },
      {
       "output_type": "stream",
       "stream": "stdout",
       "text": [
        "\n",
        "26439522"
       ]
      },
      {
       "output_type": "stream",
       "stream": "stdout",
       "text": [
        "\n",
        "25439522"
       ]
      },
      {
       "output_type": "stream",
       "stream": "stdout",
       "text": [
        "\n",
        "24439522"
       ]
      },
      {
       "output_type": "stream",
       "stream": "stdout",
       "text": [
        "\n",
        "23439522"
       ]
      },
      {
       "output_type": "stream",
       "stream": "stdout",
       "text": [
        "\n",
        "22439522"
       ]
      },
      {
       "output_type": "stream",
       "stream": "stdout",
       "text": [
        "\n",
        "21439522"
       ]
      },
      {
       "output_type": "stream",
       "stream": "stdout",
       "text": [
        "\n",
        "20439522"
       ]
      },
      {
       "output_type": "stream",
       "stream": "stdout",
       "text": [
        "\n",
        "19439522"
       ]
      },
      {
       "output_type": "stream",
       "stream": "stdout",
       "text": [
        "\n",
        "18439522"
       ]
      },
      {
       "output_type": "stream",
       "stream": "stdout",
       "text": [
        "\n",
        "17439522"
       ]
      },
      {
       "output_type": "stream",
       "stream": "stdout",
       "text": [
        "\n",
        "16439522"
       ]
      },
      {
       "output_type": "stream",
       "stream": "stdout",
       "text": [
        "\n",
        "15439522"
       ]
      },
      {
       "output_type": "stream",
       "stream": "stdout",
       "text": [
        "\n",
        "14439522"
       ]
      },
      {
       "output_type": "stream",
       "stream": "stdout",
       "text": [
        "\n",
        "13439522"
       ]
      },
      {
       "output_type": "stream",
       "stream": "stdout",
       "text": [
        "\n",
        "12439522"
       ]
      },
      {
       "output_type": "stream",
       "stream": "stdout",
       "text": [
        "\n",
        "11439522"
       ]
      },
      {
       "output_type": "stream",
       "stream": "stdout",
       "text": [
        "\n",
        "10439522"
       ]
      },
      {
       "output_type": "stream",
       "stream": "stdout",
       "text": [
        "\n",
        "9439522"
       ]
      },
      {
       "output_type": "stream",
       "stream": "stdout",
       "text": [
        "\n",
        "8439522"
       ]
      },
      {
       "output_type": "stream",
       "stream": "stdout",
       "text": [
        "\n",
        "7439522"
       ]
      },
      {
       "output_type": "stream",
       "stream": "stdout",
       "text": [
        "\n",
        "6439522"
       ]
      },
      {
       "output_type": "stream",
       "stream": "stdout",
       "text": [
        "\n",
        "5439522"
       ]
      },
      {
       "output_type": "stream",
       "stream": "stdout",
       "text": [
        "\n",
        "4439522"
       ]
      },
      {
       "output_type": "stream",
       "stream": "stdout",
       "text": [
        "\n",
        "3439522"
       ]
      },
      {
       "output_type": "stream",
       "stream": "stdout",
       "text": [
        "\n",
        "2439522"
       ]
      },
      {
       "output_type": "stream",
       "stream": "stdout",
       "text": [
        "\n",
        "1439522"
       ]
      },
      {
       "output_type": "stream",
       "stream": "stdout",
       "text": [
        "\n",
        "439522"
       ]
      },
      {
       "output_type": "stream",
       "stream": "stdout",
       "text": [
        "\n",
        "161.24577355384827"
       ]
      }
     ]
    },
    {
     "cell_type": "code",
     "collapsed": false,
     "input": [
      "## Verificar quantos dados est\u00e3o em um dom\u00ednio v\u00e1lido - pt1/5\n",
      "v=data_mtr['v']\n",
      "min_v=0; max_v=120;\n",
      "#Quantidade de dados fora dos intervalos de an\u00e1lise\n",
      "any_ind = (v == -1)\n",
      "min_ind = (v < min_v) | any_ind\n",
      "max_ind = (v > max_v)\n",
      "out_ind = min_ind | max_ind\n",
      "any_qtd = len(v[any_ind])\n",
      "min_qtd = len(v[min_ind]) - any_qtd\n",
      "max_qtd = len(v[max_ind])\n",
      "out_qtd = len(v[out_ind])\n",
      "tot_qtd = len(v) \n",
      "#histograma das velocidades\n",
      "plt.hist(data_mtr['v'], 200, range=(min_v, max_v))\n",
      "plt.xlabel(\"Velocidade (km/h)\")\n",
      "plt.ylabel(\"Quantidade de dados\")\n",
      "plt.title(\"Distribui\u00e7\u00e3o de velocidade (0 <= v < 120)\")\n",
      "plt.suptitle(\"Analise inicial\")\n",
      "savefig()\n",
      "\n",
      "print(\"% de velocidades excluidas:\" + str( out_qtd / tot_qtd * 100))\n",
      "print(\"% de velocidades excluidas (iniciais):\" + str (any_qtd / tot_qtd * 100))\n",
      "print(\"% de velocidades excluidas (menores):\" + str( min_qtd / tot_qtd * 100))\n",
      "print(\"% de velocidades excluidas (maiores):\" + str( max_qtd / tot_qtd * 100))\n",
      "\n",
      "\"\"\"\n",
      "% de velocidades excluidas:1.3287091837150897\n",
      "% de velocidades excluidas (iniciais):0.2972802076955884\n",
      "% de velocidades excluidas (menores):0.0\n",
      "% de velocidades excluidas (maiores):1.0314289760195012\n",
      "\"\"\""
     ],
     "language": "python",
     "metadata": {},
     "outputs": []
    },
    {
     "cell_type": "code",
     "collapsed": false,
     "input": [
      "## Verificar quantos dados est\u00e3o em um dom\u00ednio v\u00e1lido - pt2/5\n",
      "v=data_mtr['v']\n",
      "min_v=0+1e-16; max_v=70;\n",
      "#Quantidade de dados fora dos intervalos de an\u00e1lise\n",
      "any_ind = (v == -1)\n",
      "min_ind = (v < min_v) | any_ind\n",
      "max_ind = (v > max_v)\n",
      "out_ind = min_ind | max_ind\n",
      "any_qtd = len(v[any_ind])\n",
      "min_qtd = len(v[min_ind]) - any_qtd\n",
      "max_qtd = len(v[max_ind])\n",
      "out_qtd = len(v[out_ind])\n",
      "tot_qtd = len(v) \n",
      "#histograma das velocidades\n",
      "plt.hist(data_mtr['v'], 200, range=(min_v, max_v))\n",
      "plt.xlabel(\"Velocidade (km/h)\")\n",
      "plt.ylabel(\"Quantidade de dados\")\n",
      "plt.title(\"Distribui\u00e7\u00e3o de velocidade (0 < v < 70)\")\n",
      "plt.suptitle(\"Analise inicial\")\n",
      "savefig()\n",
      "\n",
      "print(\"% de velocidades excluidas:\" + str( out_qtd / tot_qtd * 100))\n",
      "print(\"% de velocidades excluidas (iniciais):\" + str (any_qtd / tot_qtd * 100))\n",
      "print(\"% de velocidades excluidas (menores):\" + str( min_qtd / tot_qtd * 100))\n",
      "print(\"% de velocidades excluidas (maiores):\" + str( max_qtd / tot_qtd * 100))\n",
      "\n",
      "\"\"\"\n",
      "\n",
      "% de velocidades excluidas:10.889407997710864\n",
      "% de velocidades excluidas (iniciais):0.2972802076955884\n",
      "% de velocidades excluidas (menores):9.16085301274273\n",
      "% de velocidades excluidas (maiores):1.4312747772725438\n",
      "\n",
      "\"\"\""
     ],
     "language": "python",
     "metadata": {},
     "outputs": []
    },
    {
     "cell_type": "code",
     "collapsed": false,
     "input": [
      "## Verificar quantos dados est\u00e3o em um dom\u00ednio v\u00e1lido - pt3/5\n",
      "v=data_mtr['v']\n",
      "min_v=0+1e-16; max_v=15;\n",
      "#Quantidade de dados fora dos intervalos de an\u00e1lise\n",
      "any_ind = (v == -1)\n",
      "min_ind = (v < min_v) | any_ind\n",
      "max_ind = (v > max_v)\n",
      "out_ind = min_ind | max_ind\n",
      "any_qtd = len(v[any_ind])\n",
      "min_qtd = len(v[min_ind]) - any_qtd\n",
      "max_qtd = len(v[max_ind])\n",
      "out_qtd = len(v[out_ind])\n",
      "tot_qtd = len(v) \n",
      "#histograma das velocidades\n",
      "plt.hist(data_mtr['v'], 200, range=(min_v, max_v))\n",
      "plt.xlabel(\"Velocidade (km/h)\")\n",
      "plt.ylabel(\"Quantidade de dados\")\n",
      "plt.title(\"Distribui\u00e7\u00e3o de velocidade (0 < v < 15)\")\n",
      "plt.suptitle(\"Analise inicial\")\n",
      "savefig()\n",
      "\n",
      "print(\"% de velocidades excluidas:\" + str( out_qtd / tot_qtd * 100))\n",
      "print(\"% de velocidades excluidas (iniciais):\" + str (any_qtd / tot_qtd * 100))\n",
      "print(\"% de velocidades excluidas (menores):\" + str( min_qtd / tot_qtd * 100))\n",
      "print(\"% de velocidades excluidas (maiores):\" + str( max_qtd / tot_qtd * 100))\n",
      "\n",
      "\"\"\"\n",
      "% de velocidades excluidas:44.60991502962971\n",
      "% de velocidades excluidas (iniciais):0.2972802076955884\n",
      "% de velocidades excluidas (menores):9.16085301274273\n",
      "% de velocidades excluidas (maiores):35.15178180919139\n",
      "\"\"\"\n"
     ],
     "language": "python",
     "metadata": {},
     "outputs": []
    },
    {
     "cell_type": "code",
     "collapsed": false,
     "input": [
      "## Verificar quantos dados est\u00e3o em um dom\u00ednio v\u00e1lido - pt4/5\n",
      "v=data_mtr['v']\n",
      "min_v=0+1e-16; max_v=5;\n",
      "#Quantidade de dados fora dos intervalos de an\u00e1lise\n",
      "any_ind = (v == -1)\n",
      "min_ind = (v < min_v) | any_ind\n",
      "max_ind = (v > max_v)\n",
      "out_ind = min_ind | max_ind\n",
      "any_qtd = len(v[any_ind])\n",
      "min_qtd = len(v[min_ind]) - any_qtd\n",
      "max_qtd = len(v[max_ind])\n",
      "out_qtd = len(v[out_ind])\n",
      "tot_qtd = len(v) \n",
      "#histograma das velocidades\n",
      "plt.hist(data_mtr['v'], 200, range=(min_v, max_v))\n",
      "plt.xlabel(\"Velocidade (km/h)\")\n",
      "plt.ylabel(\"Quantidade de dados\")\n",
      "plt.title(\"Distribui\u00e7\u00e3o de velocidade (0 < v < 5)\")\n",
      "plt.suptitle(\"Analise inicial\")\n",
      "savefig()\n",
      "\n",
      "print(\"% de velocidades excluidas:\" + str( out_qtd / tot_qtd * 100))\n",
      "print(\"% de velocidades excluidas (iniciais):\" + str (any_qtd / tot_qtd * 100))\n",
      "print(\"% de velocidades excluidas (menores):\" + str( min_qtd / tot_qtd * 100))\n",
      "print(\"% de velocidades excluidas (maiores):\" + str( max_qtd / tot_qtd * 100))\n",
      "\n",
      "\"\"\"\n",
      "\n",
      "% de velocidades excluidas:82.18031840828071\n",
      "% de velocidades excluidas (iniciais):0.2972802076955884\n",
      "% de velocidades excluidas (menores):9.16085301274273\n",
      "% de velocidades excluidas (maiores):72.7221851878424\n",
      "\"\"\""
     ],
     "language": "python",
     "metadata": {},
     "outputs": []
    },
    {
     "cell_type": "code",
     "collapsed": false,
     "input": [
      "## Verificar quantos dados est\u00e3o em um dom\u00ednio v\u00e1lido - pt5/5\n",
      "v=data_mtr['v']\n",
      "min_v=1; max_v=70;\n",
      "#Quantidade de dados fora dos intervalos de an\u00e1lise\n",
      "any_ind = (v == -1)\n",
      "min_ind = (v < min_v) | any_ind\n",
      "max_ind = (v > max_v)\n",
      "out_ind = min_ind | max_ind\n",
      "any_qtd = len(v[any_ind])\n",
      "min_qtd = len(v[min_ind]) - any_qtd\n",
      "max_qtd = len(v[max_ind])\n",
      "out_qtd = len(v[out_ind])\n",
      "tot_qtd = len(v) \n",
      "#histograma das velocidades\n",
      "plt.hist(data_mtr['v'], 200, range=(min_v, max_v))\n",
      "plt.xlabel(\"Velocidade (km/h)\")\n",
      "plt.ylabel(\"Quantidade de dados\")\n",
      "plt.title(\"Distribui\u00e7\u00e3o de velocidade (1 < v < 70)\")\n",
      "plt.suptitle(\"Analise inicial\")\n",
      "savefig()\n",
      "\n",
      "print(\"% de velocidades excluidas:\" + str( out_qtd / tot_qtd * 100))\n",
      "print(\"% de velocidades excluidas (iniciais):\" + str (any_qtd / tot_qtd * 100))\n",
      "print(\"% de velocidades excluidas (menores):\" + str( min_qtd / tot_qtd * 100))\n",
      "print(\"% de velocidades excluidas (maiores):\" + str( max_qtd / tot_qtd * 100))\n",
      "\n",
      "\"\"\"\n",
      "\n",
      "% de velocidades excluidas:16.823466070732714\n",
      "% de velocidades excluidas (iniciais):0.2972802076955884\n",
      "% de velocidades excluidas (menores):15.094911085764581\n",
      "% de velocidades excluidas (maiores):1.4312747772725438\n",
      "\"\"\""
     ],
     "language": "python",
     "metadata": {},
     "outputs": []
    },
    {
     "cell_type": "code",
     "collapsed": false,
     "input": [],
     "language": "python",
     "metadata": {},
     "outputs": [],
     "prompt_number": 7
    },
    {
     "cell_type": "code",
     "collapsed": false,
     "input": [],
     "language": "python",
     "metadata": {},
     "outputs": []
    }
   ],
   "metadata": {}
  }
 ]
}