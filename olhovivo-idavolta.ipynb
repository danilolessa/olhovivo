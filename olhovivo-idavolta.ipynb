{
 "metadata": {
  "name": "",
  "signature": "sha256:b03ef36c39265f4d7286220eb7889b855e04b7e905a7921822599d0719fbd009"
 },
 "nbformat": 3,
 "nbformat_minor": 0,
 "worksheets": [
  {
   "cells": [
    {
     "cell_type": "code",
     "collapsed": false,
     "input": [
      "#depend\u00eancias iniciais e constantes e carregamento de dados\n",
      "import numpy as np\n",
      "import matplotlib as plt\n",
      "from main import *\n",
      "from func import *\n",
      "from graphics import *\n",
      "path = \"/home/danilo/olhovivo/\"\n",
      "#carregamento dos dados\n",
      "data_mtr = load_dat(path, UTC)\n",
      "cl = data_mtr['cl']\n",
      "t = data_mtr['t']\n",
      "d = t / ( 60 * 60 * 24) % 7"
     ],
     "language": "python",
     "metadata": {},
     "outputs": [
      {
       "output_type": "stream",
       "stream": "stdout",
       "text": [
        "Loading file 0/1\n",
        "23521204\n",
        "23521204\n",
        "22521204"
       ]
      },
      {
       "output_type": "stream",
       "stream": "stdout",
       "text": [
        "\n",
        "21521204"
       ]
      },
      {
       "output_type": "stream",
       "stream": "stdout",
       "text": [
        "\n",
        "20521204"
       ]
      },
      {
       "output_type": "stream",
       "stream": "stdout",
       "text": [
        "\n",
        "19521204"
       ]
      },
      {
       "output_type": "stream",
       "stream": "stdout",
       "text": [
        "\n",
        "18521204"
       ]
      },
      {
       "output_type": "stream",
       "stream": "stdout",
       "text": [
        "\n",
        "17521204"
       ]
      },
      {
       "output_type": "stream",
       "stream": "stdout",
       "text": [
        "\n",
        "16521204"
       ]
      },
      {
       "output_type": "stream",
       "stream": "stdout",
       "text": [
        "\n",
        "15521204"
       ]
      },
      {
       "output_type": "stream",
       "stream": "stdout",
       "text": [
        "\n",
        "14521204"
       ]
      },
      {
       "output_type": "stream",
       "stream": "stdout",
       "text": [
        "\n",
        "13521204"
       ]
      },
      {
       "output_type": "stream",
       "stream": "stdout",
       "text": [
        "\n",
        "12521204"
       ]
      },
      {
       "output_type": "stream",
       "stream": "stdout",
       "text": [
        "\n",
        "11521204"
       ]
      },
      {
       "output_type": "stream",
       "stream": "stdout",
       "text": [
        "\n",
        "10521204"
       ]
      },
      {
       "output_type": "stream",
       "stream": "stdout",
       "text": [
        "\n",
        "9521204"
       ]
      },
      {
       "output_type": "stream",
       "stream": "stdout",
       "text": [
        "\n",
        "8521204"
       ]
      },
      {
       "output_type": "stream",
       "stream": "stdout",
       "text": [
        "\n",
        "7521204"
       ]
      },
      {
       "output_type": "stream",
       "stream": "stdout",
       "text": [
        "\n",
        "6521204"
       ]
      },
      {
       "output_type": "stream",
       "stream": "stdout",
       "text": [
        "\n",
        "5521204"
       ]
      },
      {
       "output_type": "stream",
       "stream": "stdout",
       "text": [
        "\n",
        "4521204"
       ]
      },
      {
       "output_type": "stream",
       "stream": "stdout",
       "text": [
        "\n",
        "3521204"
       ]
      },
      {
       "output_type": "stream",
       "stream": "stdout",
       "text": [
        "\n",
        "2521204"
       ]
      },
      {
       "output_type": "stream",
       "stream": "stdout",
       "text": [
        "\n",
        "1521204"
       ]
      },
      {
       "output_type": "stream",
       "stream": "stdout",
       "text": [
        "\n",
        "521204"
       ]
      },
      {
       "output_type": "stream",
       "stream": "stdout",
       "text": [
        "\n",
        "40.57231688499451"
       ]
      },
      {
       "output_type": "stream",
       "stream": "stdout",
       "text": [
        "\n",
        "23521204\n"
       ]
      }
     ],
     "prompt_number": 1
    },
    {
     "cell_type": "code",
     "collapsed": false,
     "input": [
      "ind_util = ((d < 2) | (d > 4))\n",
      "util_mtr = filter_data(data_mtr, ind_util)\n",
      "trip_mtr=calc_triptime(util_mtr)\n",
      "trip_tmp = trip_mtr['tmp']\n",
      "trip_lin = trip_mtr['lin']\n",
      "trip_tis = trip_mtr['tis']"
     ],
     "language": "python",
     "metadata": {},
     "outputs": [
      {
       "output_type": "stream",
       "stream": "stdout",
       "text": [
        "14717578\n",
        "13717578"
       ]
      },
      {
       "output_type": "stream",
       "stream": "stdout",
       "text": [
        "\n",
        "12717578"
       ]
      },
      {
       "output_type": "stream",
       "stream": "stdout",
       "text": [
        "\n",
        "11717578"
       ]
      },
      {
       "output_type": "stream",
       "stream": "stdout",
       "text": [
        "\n",
        "10717578"
       ]
      },
      {
       "output_type": "stream",
       "stream": "stdout",
       "text": [
        "\n",
        "9717578"
       ]
      },
      {
       "output_type": "stream",
       "stream": "stdout",
       "text": [
        "\n",
        "8717578"
       ]
      },
      {
       "output_type": "stream",
       "stream": "stdout",
       "text": [
        "\n",
        "7717578"
       ]
      },
      {
       "output_type": "stream",
       "stream": "stdout",
       "text": [
        "\n",
        "6717578"
       ]
      },
      {
       "output_type": "stream",
       "stream": "stdout",
       "text": [
        "\n",
        "5717578"
       ]
      },
      {
       "output_type": "stream",
       "stream": "stdout",
       "text": [
        "\n",
        "4717578"
       ]
      },
      {
       "output_type": "stream",
       "stream": "stdout",
       "text": [
        "\n",
        "3717578"
       ]
      },
      {
       "output_type": "stream",
       "stream": "stdout",
       "text": [
        "\n",
        "2717578"
       ]
      },
      {
       "output_type": "stream",
       "stream": "stdout",
       "text": [
        "\n",
        "1717578"
       ]
      },
      {
       "output_type": "stream",
       "stream": "stdout",
       "text": [
        "\n",
        "717578"
       ]
      },
      {
       "output_type": "stream",
       "stream": "stdout",
       "text": [
        "\n"
       ]
      }
     ],
     "prompt_number": 2
    },
    {
     "cell_type": "code",
     "collapsed": false,
     "input": [
      "#ida\n",
      "ind_ida = (cl < 15000) & ind_util\n",
      "ind_trip_ida = (trip_lin < 15000)\n",
      "ida_mtr = filter_data(data_mtr, ind_ida)\n",
      "trip_ida_mtr = filter_data(trip_mtr, ind_trip_ida)\n",
      "bar_trip_hr(trip_ida_mtr)\n",
      "plt.suptitle(\"Ida - dias \u00fateis\")\n",
      "plt.show()\n",
      "\n",
      "plt.hist(trip_ida_mtr['tmp'], bins=100, range=(0,300))\n",
      "plt.title(\"Distribui\u00e7\u00e3o dos tempos de viagem\")\n",
      "plt.ylabel(\"Quantidade de viagens\")\n",
      "plt.suptitle(\"Ida - dias \u00fateis\")\n",
      "plt.xlabel(\"Tempo de viagem (min)\")\n",
      "plt.show()\n",
      "\n",
      "ida_vel_hour = calc_vel_hour(ida_mtr)\n",
      "bar_vel_hr(ida_vel_hour['tmp'], ida_vel_hour['med'])\n",
      "plt.suptitle(\"Ida - dias \u00fateis\")\n",
      "plt.show()\n",
      "\n",
      "ida_active_bus = calc_active_bus(ida_mtr)\n",
      "bar_active_hr(ida_active_bus)\n",
      "plt.suptitle(\"Ida - dias \u00fateis\")\n",
      "plt.show()"
     ],
     "language": "python",
     "metadata": {},
     "outputs": [],
     "prompt_number": 3
    },
    {
     "cell_type": "code",
     "collapsed": false,
     "input": [
      "#volta\n",
      "ind_volta = (cl >= 15000) & ind_util\n",
      "ind_trip_volta = (trip_lin > 15000)\n",
      "volta_mtr = filter_data(data_mtr, ind_volta)\n",
      "trip_volta_mtr = filter_data(trip_mtr, ind_trip_volta)\n",
      "\n",
      "plt.hist(trip_volta_mtr['tmp'], bins=100, range=(0,300))\n",
      "plt.title(\"Distribui\u00e7\u00e3o dos tempos de viagem\")\n",
      "plt.ylabel(\"Quantidade de viagens\")\n",
      "plt.suptitle(\"Ida - dias \u00fateis\")\n",
      "plt.xlabel(\"Tempo de viagem (min)\")\n",
      "plt.show()\n",
      "\n",
      "bar_trip_hr(trip_volta_mtr)\n",
      "plt.suptitle(\"Volta - dias \u00fateis\")\n",
      "plt.show()\n",
      "\n",
      "volta_vel_hour = calc_vel_hour(volta_mtr)\n",
      "bar_vel_hr(volta_vel_hour['tmp'], volta_vel_hour['med'])\n",
      "plt.suptitle(\"Volta - dias \u00fateis\")\n",
      "plt.show()\n",
      "\n",
      "volta_active_bus = calc_active_bus(volta_mtr)\n",
      "bar_active_hr(volta_active_bus)\n",
      "plt.suptitle(\"Volta - dias \u00fateis\")\n",
      "plt.show()"
     ],
     "language": "python",
     "metadata": {},
     "outputs": [],
     "prompt_number": 4
    },
    {
     "cell_type": "code",
     "collapsed": false,
     "input": [],
     "language": "python",
     "metadata": {},
     "outputs": []
    }
   ],
   "metadata": {}
  }
 ]
}