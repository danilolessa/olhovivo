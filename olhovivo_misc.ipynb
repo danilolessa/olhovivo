{
 "metadata": {
  "name": "",
  "signature": "sha256:c1414346bf7a74ad29031a7f3b1d42a9d58fea360a8b276b3e928168b0dc9408"
 },
 "nbformat": 3,
 "nbformat_minor": 0,
 "worksheets": []
}