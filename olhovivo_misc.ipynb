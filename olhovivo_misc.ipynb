{
 "metadata": {
  "name": "",
  "signature": "sha256:73a5341537a9077e0f3b63ce4d8c1703cdcfaa3220bb6fe4b8624ad311cfba05"
 },
 "nbformat": 3,
 "nbformat_minor": 0,
 "worksheets": [
  {
   "cells": [
    {
     "cell_type": "code",
     "collapsed": false,
     "input": [
      "#depend\u00eancias iniciais e constantes e carregamento de dados\n",
      "import numpy as np\n",
      "import matplotlib as plt\n",
      "from main import *\n",
      "from func import *\n",
      "from graphics import *\n",
      "path = \"/home/danilo/olhovivo/\"\n",
      "#carregamento dos dados\n",
      "data_mtr = load_dat(path, UTC);\n",
      "t = data_mtr['t'];\n",
      "cl = data_mtr['cl']\n",
      "d = t / ( 60 * 60 * 24) % 7;\n",
      "h = (t % 24)\n",
      "qtd=len(t)"
     ],
     "language": "python",
     "metadata": {},
     "outputs": []
    },
    {
     "cell_type": "markdown",
     "metadata": {},
     "source": [
      "matrix_size=75"
     ]
    },
    {
     "cell_type": "code",
     "collapsed": false,
     "input": [],
     "language": "python",
     "metadata": {},
     "outputs": []
    }
   ],
   "metadata": {}
  }
 ]
}