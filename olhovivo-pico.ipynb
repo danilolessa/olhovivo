{
 "metadata": {
  "name": "",
  "signature": "sha256:0ddb4f1c08f137d6afceeea54056e5586571d325244f7b5a9b5d4b518b192d16"
 },
 "nbformat": 3,
 "nbformat_minor": 0,
 "worksheets": [
  {
   "cells": [
    {
     "cell_type": "code",
     "collapsed": true,
     "input": [
      "#depend\u00eancias iniciais e constantes e carregamento de dados\n",
      "import numpy as np\n",
      "import matplotlib as plt\n",
      "from main import *\n",
      "from func import *\n",
      "from graphics import *\n",
      "path = \"/home/danilo/olhovivo/\"\n",
      "#carregamento dos dados\n",
      "data_mtr = load_dat(path, UTC);\n",
      "t = data_mtr['t'];\n",
      "cl = data_mtr['cl']\n",
      "d = t / ( 60 * 60 * 24) % 7;\n",
      "h = (t % 24)\n",
      "qtd=len(t)"
     ],
     "language": "python",
     "metadata": {},
     "outputs": [
      {
       "output_type": "stream",
       "stream": "stdout",
       "text": [
        "Loading file 0/1\n",
        "23521204\n",
        "23521204"
       ]
      },
      {
       "output_type": "stream",
       "stream": "stdout",
       "text": [
        "\n",
        "22521204"
       ]
      },
      {
       "output_type": "stream",
       "stream": "stdout",
       "text": [
        "\n",
        "21521204"
       ]
      },
      {
       "output_type": "stream",
       "stream": "stdout",
       "text": [
        "\n",
        "20521204"
       ]
      },
      {
       "output_type": "stream",
       "stream": "stdout",
       "text": [
        "\n",
        "19521204"
       ]
      },
      {
       "output_type": "stream",
       "stream": "stdout",
       "text": [
        "\n",
        "18521204"
       ]
      },
      {
       "output_type": "stream",
       "stream": "stdout",
       "text": [
        "\n",
        "17521204"
       ]
      },
      {
       "output_type": "stream",
       "stream": "stdout",
       "text": [
        "\n",
        "16521204"
       ]
      },
      {
       "output_type": "stream",
       "stream": "stdout",
       "text": [
        "\n",
        "15521204"
       ]
      },
      {
       "output_type": "stream",
       "stream": "stdout",
       "text": [
        "\n",
        "14521204"
       ]
      },
      {
       "output_type": "stream",
       "stream": "stdout",
       "text": [
        "\n",
        "13521204"
       ]
      },
      {
       "output_type": "stream",
       "stream": "stdout",
       "text": [
        "\n",
        "12521204"
       ]
      },
      {
       "output_type": "stream",
       "stream": "stdout",
       "text": [
        "\n",
        "11521204"
       ]
      },
      {
       "output_type": "stream",
       "stream": "stdout",
       "text": [
        "\n",
        "10521204"
       ]
      },
      {
       "output_type": "stream",
       "stream": "stdout",
       "text": [
        "\n",
        "9521204"
       ]
      },
      {
       "output_type": "stream",
       "stream": "stdout",
       "text": [
        "\n",
        "8521204"
       ]
      },
      {
       "output_type": "stream",
       "stream": "stdout",
       "text": [
        "\n",
        "7521204"
       ]
      },
      {
       "output_type": "stream",
       "stream": "stdout",
       "text": [
        "\n",
        "6521204"
       ]
      },
      {
       "output_type": "stream",
       "stream": "stdout",
       "text": [
        "\n",
        "5521204"
       ]
      },
      {
       "output_type": "stream",
       "stream": "stdout",
       "text": [
        "\n",
        "4521204"
       ]
      },
      {
       "output_type": "stream",
       "stream": "stdout",
       "text": [
        "\n",
        "3521204"
       ]
      },
      {
       "output_type": "stream",
       "stream": "stdout",
       "text": [
        "\n",
        "2521204"
       ]
      },
      {
       "output_type": "stream",
       "stream": "stdout",
       "text": [
        "\n",
        "1521204"
       ]
      },
      {
       "output_type": "stream",
       "stream": "stdout",
       "text": [
        "\n",
        "521204"
       ]
      },
      {
       "output_type": "stream",
       "stream": "stdout",
       "text": [
        "\n",
        "43.020668029785156"
       ]
      },
      {
       "output_type": "stream",
       "stream": "stdout",
       "text": [
        "\n",
        "23521204\n"
       ]
      }
     ],
     "prompt_number": 2
    },
    {
     "cell_type": "code",
     "collapsed": false,
     "input": [
      "ind_util = ((d < 2) | (d > 4))\n",
      "#util_mtr=filter_data(data_mtr, ind_util)"
     ],
     "language": "python",
     "metadata": {},
     "outputs": [],
     "prompt_number": 3
    },
    {
     "cell_type": "code",
     "collapsed": false,
     "input": [
      "al=False\n",
      "matrix_size=15\n",
      "dif_size=3"
     ],
     "language": "python",
     "metadata": {},
     "outputs": [],
     "prompt_number": 4
    },
    {
     "cell_type": "code",
     "collapsed": false,
     "input": [],
     "language": "python",
     "metadata": {},
     "outputs": [],
     "prompt_number": 4
    },
    {
     "cell_type": "code",
     "collapsed": false,
     "input": [
      "util_vdata = calc_vel_matrix(util_mtr)\n",
      "v_mtr = util_vdata['v_mtr']; q_mtr = util_vdata['qtd_mtr']\n",
      "\n",
      "map_vel(v_mtr)\n",
      "plt.suptitle(\"Dias \u00fateis\")\n",
      "plt.show()\n",
      "map_mtr(q_mtr / np.sum(q_mtr),0, 0.003)\n",
      "plt.suptitle(\"Dias \u00fateis\")\n",
      "plt.title(\"Distribui\u00e7\u00e3o normalizada\")\n",
      "plt.show()"
     ],
     "language": "python",
     "metadata": {},
     "outputs": [
      {
       "metadata": {},
       "output_type": "pyout",
       "prompt_number": 5,
       "text": [
        "'\\nutil_vdata = calc_vel_matrix(util_mtr)\\nv_mtr = util_vdata[\\'v_mtr\\']; q_mtr = util_vdata[\\'qtd_mtr\\']\\nif al:\\n    map_vel(v_mtr)\\n    plt.suptitle(\"Dias \u00fateis\")\\n    plt.show()\\n    map_mtr(q_mtr / np.sum(q_mtr),0, 0.003)\\n    plt.suptitle(\"Dias \u00fateis\")\\n    plt.title(\"Distribui\u00e7\u00e3o normalizada\")\\n    plt.show()\\n'"
       ]
      }
     ],
     "prompt_number": 5
    },
    {
     "cell_type": "code",
     "collapsed": false,
     "input": [
      "#matinal todos\n",
      "manha_inds = (h > 7.5) & (h < 8.5) & ind_util\n",
      "manha_mtr = filter_data(data_mtr, manha_inds)\n",
      "manha_vdata = calc_vel_matrix(manha_mtr, default_matrix_config, matrix_size)\n",
      "v_mtr = manha_vdata['v_mtr']; q_mtr = manha_vdata['qtd_mtr']\n",
      "\n",
      "map_vel(v_mtr)\n",
      "plt.suptitle(\"Dias \u00fateis - pico matinal\")\n",
      "plt.show()\n",
      "qtd=np.sum(q_mtr)\n",
      "map_mtr(q_mtr / qtd, 0, 0.003)\n",
      "plt.suptitle(\"Dias \u00fateis - pico matinal\")\n",
      "plt.title(\"Distribui\u00e7\u00e3o normalizada\")\n",
      "plt.show()"
     ],
     "language": "python",
     "metadata": {},
     "outputs": [
      {
       "output_type": "stream",
       "stream": "stdout",
       "text": [
        "cache - 15\n",
        "15"
       ]
      },
      {
       "output_type": "stream",
       "stream": "stdout",
       "text": [
        "\n"
       ]
      }
     ],
     "prompt_number": 6
    },
    {
     "cell_type": "code",
     "collapsed": false,
     "input": [
      "#manh\u00e3 ida\n",
      "manha_ida_inds = manha_inds & (cl < 15000)\n",
      "manha_ida_mtr = filter_data(data_mtr, manha_ida_inds)\n",
      "manha_ida_vdata = calc_vel_matrix(manha_ida_mtr, default_matrix_config, matrix_size)\n",
      "v_mtr = manha_ida_vdata['v_mtr']; q_mtr = manha_ida_vdata['qtd_mtr']\n",
      "\n",
      "map_vel(v_mtr)\n",
      "plt.suptitle(\"Dias \u00fateis - pico matinal - linhas de ida\")\n",
      "plt.show()\n",
      "map_mtr(q_mtr / qtd, 0, 0.003)\n",
      "plt.suptitle(\"Dias \u00fateis - pico matinal- linhas de ida\")\n",
      "plt.title(\"Distribui\u00e7\u00e3o normalizada\")\n",
      "plt.show()"
     ],
     "language": "python",
     "metadata": {},
     "outputs": [
      {
       "output_type": "stream",
       "stream": "stdout",
       "text": [
        "cache - 15\n",
        "15"
       ]
      },
      {
       "output_type": "stream",
       "stream": "stdout",
       "text": [
        "\n"
       ]
      }
     ],
     "prompt_number": 7
    },
    {
     "cell_type": "code",
     "collapsed": false,
     "input": [
      "#matinal volta\n",
      "manha_volta_inds = manha_inds & (cl > 15000)\n",
      "manha_volta_mtr = filter_data(data_mtr, manha_volta_inds)\n",
      "manha_volta_vdata = calc_vel_matrix(manha_volta_mtr, default_matrix_config, matrix_size)\n",
      "v_mtr = manha_volta_vdata['v_mtr']; q_mtr = manha_volta_vdata['qtd_mtr']\n",
      "\n",
      "map_vel(v_mtr)\n",
      "plt.suptitle(\"Dias \u00fateis - pico matinal - linhas de volta\")\n",
      "plt.show()\n",
      "map_mtr(q_mtr / qtd, 0, 0.003)\n",
      "plt.suptitle(\"Dias \u00fateis - pico matinal- linhas de volta\")\n",
      "plt.title(\"Distribui\u00e7\u00e3o normalizada\")\n",
      "plt.show()"
     ],
     "language": "python",
     "metadata": {},
     "outputs": [
      {
       "output_type": "stream",
       "stream": "stdout",
       "text": [
        "cache - 15\n",
        "15"
       ]
      },
      {
       "output_type": "stream",
       "stream": "stdout",
       "text": [
        "\n"
       ]
      }
     ],
     "prompt_number": 8
    },
    {
     "cell_type": "code",
     "collapsed": false,
     "input": [
      "#diferen\u00e7a matinal\n",
      "manha_dif_mtr = manha_ida_vdata['v_mtr'] - manha_volta_vdata['v_mtr']\n",
      "map_mtr(manha_dif_mtr, -dif_size, dif_size, 'seismic')\n",
      "plt.suptitle(\"Dias \u00fateis - pico matinal - diferen\u00e7a ida vs volta\")\n",
      "plt.show()"
     ],
     "language": "python",
     "metadata": {},
     "outputs": [],
     "prompt_number": 9
    },
    {
     "cell_type": "code",
     "collapsed": false,
     "input": [
      "#tarde todos\n",
      "tarde_inds = (h > 17.5) & (h < 18.5) & ind_util\n",
      "tarde_mtr = filter_data(data_mtr, tarde_inds)\n",
      "tarde_vdata = calc_vel_matrix(tarde_mtr, default_matrix_config, matrix_size)\n",
      "v_mtr = tarde_vdata['v_mtr']; q_mtr = tarde_vdata['qtd_mtr']\n",
      "\n",
      "map_vel(v_mtr)\n",
      "plt.suptitle(\"Dias \u00fateis - pico vespertino\")\n",
      "plt.show()\n",
      "qtd=np.sum(q_mtr)\n",
      "map_mtr(q_mtr / qtd, 0, 0.003)\n",
      "plt.suptitle(\"Dias \u00fateis - pico vespertino\")\n",
      "plt.title(\"Distribui\u00e7\u00e3o normalizada\")\n",
      "plt.show()"
     ],
     "language": "python",
     "metadata": {},
     "outputs": [
      {
       "output_type": "stream",
       "stream": "stdout",
       "text": [
        "cache - 15\n",
        "15"
       ]
      },
      {
       "output_type": "stream",
       "stream": "stdout",
       "text": [
        "\n"
       ]
      }
     ],
     "prompt_number": 10
    },
    {
     "cell_type": "code",
     "collapsed": false,
     "input": [
      "#tarde ida\n",
      "tarde_ida_inds = tarde_inds  & (cl < 15000)\n",
      "tarde_ida_mtr = filter_data(data_mtr, tarde_ida_inds)\n",
      "tarde_ida_vdata = calc_vel_matrix(tarde_ida_mtr, default_matrix_config, matrix_size)\n",
      "v_mtr = tarde_ida_vdata['v_mtr']; q_mtr = tarde_ida_vdata['qtd_mtr']\n",
      "\n",
      "map_vel(v_mtr)\n",
      "plt.suptitle(\"Dias \u00fateis - pico vespertino - linhas de ida\")\n",
      "plt.show()\n",
      "qtd=np.sum(q_mtr)\n",
      "map_mtr(q_mtr / qtd, 0, 0.003)\n",
      "plt.suptitle(\"Dias \u00fateis - pico vespertino - linhas de ida\")\n",
      "plt.title(\"Distribui\u00e7\u00e3o normalizada\")\n",
      "plt.show()"
     ],
     "language": "python",
     "metadata": {},
     "outputs": [
      {
       "output_type": "stream",
       "stream": "stdout",
       "text": [
        "cache - 15\n",
        "15"
       ]
      },
      {
       "output_type": "stream",
       "stream": "stdout",
       "text": [
        "\n"
       ]
      }
     ],
     "prompt_number": 11
    },
    {
     "cell_type": "code",
     "collapsed": false,
     "input": [
      "#tarde volta\n",
      "tarde_volta_inds = tarde_inds  & (cl > 15000)\n",
      "tarde_volta_mtr = filter_data(data_mtr, tarde_volta_inds)\n",
      "tarde_volta_vdata = calc_vel_matrix(tarde_volta_mtr, default_matrix_config, matrix_size)\n",
      "v_mtr = tarde_volta_vdata['v_mtr']; q_mtr = tarde_volta_vdata['qtd_mtr']\n",
      "\n",
      "map_vel(v_mtr)\n",
      "plt.suptitle(\"Dias \u00fateis - pico vespertino - linhas de volta\")\n",
      "plt.show()\n",
      "qtd=np.sum(q_mtr)\n",
      "map_mtr(q_mtr / qtd, 0, 0.003)\n",
      "plt.suptitle(\"Dias \u00fateis - pico vespertino - linhas de volta\")\n",
      "plt.title(\"Distribui\u00e7\u00e3o normalizada\")\n",
      "plt.show()"
     ],
     "language": "python",
     "metadata": {},
     "outputs": [
      {
       "output_type": "stream",
       "stream": "stdout",
       "text": [
        "cache - 15\n",
        "15"
       ]
      },
      {
       "output_type": "stream",
       "stream": "stdout",
       "text": [
        "\n"
       ]
      }
     ],
     "prompt_number": 12
    },
    {
     "cell_type": "code",
     "collapsed": false,
     "input": [
      "#diferen\u00e7a vespertino\n",
      "tarde_dif_mtr = tarde_ida_vdata['v_mtr'] - tarde_volta_vdata['v_mtr']\n",
      "map_mtr(tarde_dif_mtr, -dif_size, dif_size, 'seismic')\n",
      "plt.suptitle(\"Dias \u00fateis - pico vespertino - diferen\u00e7a ida vs volta\")\n",
      "plt.show()"
     ],
     "language": "python",
     "metadata": {},
     "outputs": [],
     "prompt_number": 16
    },
    {
     "cell_type": "code",
     "collapsed": false,
     "input": [
      "#diferenca manha vs tarde\n",
      "ida_dif_mtr = manha_ida_vdata['v_mtr'] - tarde_ida_vdata['v_mtr']\n",
      "map_mtr(ida_dif_mtr, -dif_size, dif_size, 'seismic')\n",
      "plt.suptitle(\"Dias \u00fateis - linhas de ida - diferen\u00e7a picos matutinos vs vespertinos\")\n",
      "plt.show()\n",
      "\n",
      "volta_dif_mtr = manha_volta_vdata['v_mtr'] - tarde_volta_vdata['v_mtr']\n",
      "map_mtr(volta_dif_mtr, -dif_size, dif_size, 'seismic')\n",
      "plt.suptitle(\"Dias \u00fateis - linhas de volta - diferen\u00e7a picos matutinos vs vespertinos\")\n",
      "plt.show()"
     ],
     "language": "python",
     "metadata": {},
     "outputs": [],
     "prompt_number": 14
    },
    {
     "cell_type": "code",
     "collapsed": false,
     "input": [
      "#diferenca de periodo\n",
      "geral_dif_mtr = manha_vdata['v_mtr'] - tarde_vdata['v_mtr'] \n",
      "map_mtr(geral_dif_mtr, -dif_size, dif_size, 'seismic')\n",
      "plt.suptitle(\"Dias \u00fateis - diferen\u00e7a picos matutinos vs vespertinos\")\n",
      "plt.show()"
     ],
     "language": "python",
     "metadata": {},
     "outputs": [],
     "prompt_number": 15
    },
    {
     "cell_type": "code",
     "collapsed": false,
     "input": [],
     "language": "python",
     "metadata": {},
     "outputs": [],
     "prompt_number": 15
    },
    {
     "cell_type": "code",
     "collapsed": false,
     "input": [],
     "language": "python",
     "metadata": {},
     "outputs": [],
     "prompt_number": 15
    },
    {
     "cell_type": "code",
     "collapsed": false,
     "input": [],
     "language": "python",
     "metadata": {},
     "outputs": [],
     "prompt_number": 15
    },
    {
     "cell_type": "code",
     "collapsed": false,
     "input": [],
     "language": "python",
     "metadata": {},
     "outputs": [],
     "prompt_number": 15
    },
    {
     "cell_type": "code",
     "collapsed": false,
     "input": [],
     "language": "python",
     "metadata": {},
     "outputs": []
    }
   ],
   "metadata": {}
  }
 ]
}